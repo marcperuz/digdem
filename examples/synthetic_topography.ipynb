{
 "cells": [
  {
   "cell_type": "markdown",
   "id": "8c53989d-a042-45bb-b7bf-5e2d81ba95da",
   "metadata": {},
   "source": [
    "This example presents the basics of `digdem` functions, on a synthetic example. let's first import the necessary packages"
   ]
  },
  {
   "cell_type": "code",
   "execution_count": 1,
   "id": "6cc9deb8-9e59-4a84-906e-31ee14b20e32",
   "metadata": {},
   "outputs": [],
   "source": [
    "import numpy as np\n",
    "import matplotlib.pyplot as plt\n",
    "\n",
    "import digdem.surfmod\n",
    "import digdem.section\n",
    "import digdem.plot"
   ]
  },
  {
   "cell_type": "markdown",
   "id": "3b9e4819-32e4-4c7b-a2be-0d895f425025",
   "metadata": {},
   "source": [
    "We create the initial topography that will be modified. It consists of a simple inclined plane with slope angle 45°and curved shape. We then display it with buil-in functions."
   ]
  },
  {
   "cell_type": "code",
   "execution_count": 24,
   "id": "c0fca04b-1008-4264-a5ad-bd0e52953458",
   "metadata": {},
   "outputs": [
    {
     "ename": "TypeError",
     "evalue": "plot_topo() got an unexpected keyword argument 'index'",
     "output_type": "error",
     "traceback": [
      "\u001b[1;31m---------------------------------------------------------------------------\u001b[0m",
      "\u001b[1;31mTypeError\u001b[0m                                 Traceback (most recent call last)",
      "Cell \u001b[1;32mIn[24], line 13\u001b[0m\n\u001b[0;32m      9\u001b[0m zold \u001b[38;5;241m=\u001b[39m zold \u001b[38;5;241m-\u001b[39m np\u001b[38;5;241m.\u001b[39mmin(zold)\n\u001b[0;32m     10\u001b[0m \u001b[38;5;66;03m#zlod = np.minimum\u001b[39;00m\n\u001b[0;32m     11\u001b[0m \n\u001b[0;32m     12\u001b[0m \u001b[38;5;66;03m# Plot topography\u001b[39;00m\n\u001b[1;32m---> 13\u001b[0m \u001b[43mdigdem\u001b[49m\u001b[38;5;241;43m.\u001b[39;49m\u001b[43mplot\u001b[49m\u001b[38;5;241;43m.\u001b[39;49m\u001b[43mplot_topo\u001b[49m\u001b[43m(\u001b[49m\u001b[43mzold\u001b[49m\u001b[43m,\u001b[49m\u001b[43m \u001b[49m\u001b[43mx\u001b[49m\u001b[43m,\u001b[49m\u001b[43m \u001b[49m\u001b[43my\u001b[49m\u001b[43m,\u001b[49m\n\u001b[0;32m     14\u001b[0m \u001b[43m                      \u001b[49m\u001b[43muniform_grey\u001b[49m\u001b[38;5;241;43m=\u001b[39;49m\u001b[38;5;241;43m0.5\u001b[39;49m\u001b[43m,\u001b[49m\n\u001b[0;32m     15\u001b[0m \u001b[43m                      \u001b[49m\u001b[43mindex\u001b[49m\u001b[38;5;241;43m=\u001b[39;49m\u001b[38;5;124;43m'\u001b[39;49m\u001b[38;5;124;43mij\u001b[39;49m\u001b[38;5;124;43m'\u001b[39;49m\u001b[43m,\u001b[49m\n\u001b[0;32m     16\u001b[0m \u001b[43m                     \u001b[49m\u001b[43m)\u001b[49m\n",
      "\u001b[1;31mTypeError\u001b[0m: plot_topo() got an unexpected keyword argument 'index'"
     ]
    }
   ],
   "source": [
    "# Initiate mesh\n",
    "x = np.linspace(0, 1.5, 300)\n",
    "y = np.linspace(-0.5, 0.5, 200)\n",
    "xmesh, ymesh = np.meshgrid(x, y, indexing='ij')\n",
    "\n",
    "# Initial topography\n",
    "slope_angle = 45\n",
    "zold = -np.tan(np.deg2rad(slope_angle)) * xmesh + 0.5 * ymesh**2\n",
    "zold = zold - np.min(zold)\n",
    "#zlod = np.minimum\n",
    "\n",
    "# Plot topography\n",
    "digdem.plot.plot_topo(zold, x, y,\n",
    "                      uniform_grey=0.5,\n",
    "                      index='ij',\n",
    "                     )"
   ]
  },
  {
   "cell_type": "markdown",
   "id": "510499fa-ecdf-4347-bdbd-5918215c39cf",
   "metadata": {},
   "source": [
    "Create the mask where the topography will be modified. here we consider an ellipse."
   ]
  },
  {
   "cell_type": "code",
   "execution_count": 14,
   "id": "ae5b347d-c037-4960-ad87-b857fd2eee2c",
   "metadata": {},
   "outputs": [],
   "source": [
    "# Mask where topography must be modified\n",
    "xc = 0.6\n",
    "yc = 0.5\n",
    "xwidth = 0.30\n",
    "ywidth = 0.20\n",
    "tmp = 1 - (xmesh - xc) ** 2 / xwidth**2 - (ymesh - yc) ** 2 / ywidth**2\n",
    "mask = tmp >= 0"
   ]
  },
  {
   "cell_type": "markdown",
   "id": "a58a4535-8246-489f-97ed-d36ddf20b30c",
   "metadata": {},
   "source": [
    "We now create two longitudinal and transversal controlling sections. Their names are respectively \"long\" and \"trans\", and their extreme points are named separately. "
   ]
  },
  {
   "cell_type": "code",
   "execution_count": 9,
   "id": "aa414336-9b16-4d11-9eb0-f9d04dc6849a",
   "metadata": {},
   "outputs": [
    {
     "name": "stderr",
     "output_type": "stream",
     "text": [
      "D:\\Documents\\peruzzetto\\Travail\\codes\\digdem\\src\\digdem\\section.py:237: UserWarning: Extreme points names could not be set, invalid string separator\n",
      "  warnings.warn(\n"
     ]
    }
   ],
   "source": [
    "# Longitudinal cross-section\n",
    "point1 = (0.1, 0.5)\n",
    "point2 = (0.9, 0.5)\n",
    "sec_long = digdem.section.Section(\n",
    "    [point1, point2], \"long\", normalized=False, dinterp=0.05\n",
    ")\n",
    "sec_long.extreme_points_names=['A','B']\n",
    "\n",
    "#Transversal cross-section\n",
    "point1 = (0.6, 0.2)\n",
    "point2 = (0.6, 0.8)\n",
    "sec_trans = digdem.section.Section(\n",
    "    [point1, point2], \"trans\", normalized=False, dinterp=0.05\n",
    ")\n",
    "sec_long.extreme_points_names=['C','D']"
   ]
  },
  {
   "cell_type": "markdown",
   "id": "b1685474-2957-4d7e-bf97-04907dcc16cd",
   "metadata": {},
   "source": [
    "This raises a warning, because the code tries to get extreme points from the name of the section. It will do so if the name has the form \"X-Y\".\n",
    "For instance we could have written instead:"
   ]
  },
  {
   "cell_type": "code",
   "execution_count": 12,
   "id": "b9e1accb-e655-49f8-91e1-1555e8cc3adc",
   "metadata": {},
   "outputs": [],
   "source": [
    "# Longitudinal cross-section\n",
    "point1 = (0.1, 0.5)\n",
    "point2 = (0.9, 0.5)\n",
    "sec_long = digdem.section.Section(\n",
    "    [point1, point2], \"A-B\", normalized=False, dinterp=0.05\n",
    ")\n",
    "\n",
    "#Transversal cross-section\n",
    "point1 = (0.6, 0.2)\n",
    "point2 = (0.6, 0.8)\n",
    "sec_trans = digdem.section.Section(\n",
    "    [point1, point2], \"C-D\", normalized=False, dinterp=0.05\n",
    ")"
   ]
  },
  {
   "cell_type": "markdown",
   "id": "46ec2dd5-4ef0-4e5c-9dfc-71375a579aa9",
   "metadata": {},
   "source": [
    "The `new_dem` instance is then created with all the previous data:"
   ]
  },
  {
   "cell_type": "code",
   "execution_count": 17,
   "id": "25ca240c-6e35-4e9e-ab74-1330e12560ac",
   "metadata": {},
   "outputs": [
    {
     "name": "stderr",
     "output_type": "stream",
     "text": [
      "Uncoherent shapes\n"
     ]
    },
    {
     "ename": "AssertionError",
     "evalue": "Uncoherent shapes",
     "output_type": "error",
     "traceback": [
      "\u001b[1;31m---------------------------------------------------------------------------\u001b[0m",
      "\u001b[1;31mAssertionError\u001b[0m                            Traceback (most recent call last)",
      "Cell \u001b[1;32mIn[17], line 1\u001b[0m\n\u001b[1;32m----> 1\u001b[0m new_dem \u001b[38;5;241m=\u001b[39m \u001b[43mdigdem\u001b[49m\u001b[38;5;241;43m.\u001b[39;49m\u001b[43msurfmod\u001b[49m\u001b[38;5;241;43m.\u001b[39;49m\u001b[43mSurfMod\u001b[49m\u001b[43m(\u001b[49m\n\u001b[0;32m      2\u001b[0m \u001b[43m    \u001b[49m\u001b[43mzold\u001b[49m\u001b[43m,\u001b[49m\n\u001b[0;32m      3\u001b[0m \u001b[43m    \u001b[49m\u001b[43mmask\u001b[49m\u001b[43m,\u001b[49m\n\u001b[0;32m      4\u001b[0m \u001b[43m    \u001b[49m\u001b[43mxaxis\u001b[49m\u001b[38;5;241;43m=\u001b[39;49m\u001b[43mx\u001b[49m\u001b[43m,\u001b[49m\n\u001b[0;32m      5\u001b[0m \u001b[43m    \u001b[49m\u001b[43myaxis\u001b[49m\u001b[38;5;241;43m=\u001b[39;49m\u001b[43my\u001b[49m\u001b[43m,\u001b[49m\n\u001b[0;32m      6\u001b[0m \u001b[43m    \u001b[49m\u001b[43msections\u001b[49m\u001b[38;5;241;43m=\u001b[39;49m\u001b[43m[\u001b[49m\u001b[43msec_long\u001b[49m\u001b[43m,\u001b[49m\u001b[43m \u001b[49m\u001b[43msec_trans\u001b[49m\u001b[43m]\u001b[49m\u001b[43m,\u001b[49m\n\u001b[0;32m      7\u001b[0m \u001b[43m    \u001b[49m\u001b[43mdinterp\u001b[49m\u001b[38;5;241;43m=\u001b[39;49m\u001b[38;5;241;43m0.05\u001b[39;49m\u001b[43m,\u001b[49m\n\u001b[0;32m      8\u001b[0m \u001b[43m    \u001b[49m\u001b[43msmooth\u001b[49m\u001b[38;5;241;43m=\u001b[39;49m\u001b[38;5;241;43m0\u001b[39;49m\u001b[43m,\u001b[49m\n\u001b[0;32m      9\u001b[0m \u001b[43m    \u001b[49m\u001b[43msparse_interp\u001b[49m\u001b[38;5;241;43m=\u001b[39;49m\u001b[38;5;241;43m1\u001b[39;49m\u001b[43m,\u001b[49m\n\u001b[0;32m     10\u001b[0m \u001b[43m)\u001b[49m\n",
      "File \u001b[1;32mD:\\Documents\\peruzzetto\\Travail\\codes\\digdem\\src\\digdem\\surfmod.py:172\u001b[0m, in \u001b[0;36mSurfMod.__init__\u001b[1;34m(self, surf_old, mask, xaxis, yaxis, sections, contour, normalized, sparse_interp, dinterp, ndv, smooth, surf_max, surf_min)\u001b[0m\n\u001b[0;32m    170\u001b[0m sizex_coherent \u001b[38;5;241m=\u001b[39m mask\u001b[38;5;241m.\u001b[39mshape[\u001b[38;5;241m0\u001b[39m] \u001b[38;5;241m==\u001b[39m surf_old\u001b[38;5;241m.\u001b[39mshape[\u001b[38;5;241m0\u001b[39m] \u001b[38;5;241m==\u001b[39m xaxis\u001b[38;5;241m.\u001b[39mshape[\u001b[38;5;241m0\u001b[39m]\n\u001b[0;32m    171\u001b[0m sizey_coherent \u001b[38;5;241m=\u001b[39m mask\u001b[38;5;241m.\u001b[39mshape[\u001b[38;5;241m1\u001b[39m] \u001b[38;5;241m==\u001b[39m surf_old\u001b[38;5;241m.\u001b[39mshape[\u001b[38;5;241m1\u001b[39m] \u001b[38;5;241m==\u001b[39m yaxis\u001b[38;5;241m.\u001b[39mshape[\u001b[38;5;241m0\u001b[39m]\n\u001b[1;32m--> 172\u001b[0m \u001b[38;5;28;01massert\u001b[39;00m sizex_coherent \u001b[38;5;241m&\u001b[39m sizey_coherent, \u001b[38;5;124m\"\u001b[39m\u001b[38;5;124mUncoherent shapes\u001b[39m\u001b[38;5;124m\"\u001b[39m\n\u001b[0;32m    174\u001b[0m \u001b[38;5;28mself\u001b[39m\u001b[38;5;241m.\u001b[39msurf_old \u001b[38;5;241m=\u001b[39m np\u001b[38;5;241m.\u001b[39mcopy(surf_old)\n\u001b[0;32m    175\u001b[0m \u001b[38;5;28mself\u001b[39m\u001b[38;5;241m.\u001b[39msurf_old[np\u001b[38;5;241m.\u001b[39misnan(\u001b[38;5;28mself\u001b[39m\u001b[38;5;241m.\u001b[39msurf_old)] \u001b[38;5;241m=\u001b[39m ndv\n",
      "\u001b[1;31mAssertionError\u001b[0m: Uncoherent shapes"
     ]
    }
   ],
   "source": [
    "new_dem = digdem.surfmod.SurfMod(\n",
    "    zold,\n",
    "    mask,\n",
    "    xaxis=x,\n",
    "    yaxis=y,\n",
    "    sections=[sec_long, sec_trans],\n",
    "    dinterp=0.05,\n",
    "    smooth=0,\n",
    "    sparse_interp=1,\n",
    ")"
   ]
  }
 ],
 "metadata": {
  "kernelspec": {
   "display_name": "Python 3 (ipykernel)",
   "language": "python",
   "name": "python3"
  },
  "language_info": {
   "codemirror_mode": {
    "name": "ipython",
    "version": 3
   },
   "file_extension": ".py",
   "mimetype": "text/x-python",
   "name": "python",
   "nbconvert_exporter": "python",
   "pygments_lexer": "ipython3",
   "version": "3.12.1"
  }
 },
 "nbformat": 4,
 "nbformat_minor": 5
}
